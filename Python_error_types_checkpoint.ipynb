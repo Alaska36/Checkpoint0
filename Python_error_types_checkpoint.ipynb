{
  "nbformat": 4,
  "nbformat_minor": 0,
  "metadata": {
    "kernelspec": {
      "display_name": "Python 2",
      "language": "python",
      "name": "python2"
    },
    "language_info": {
      "codemirror_mode": {
        "name": "ipython",
        "version": 3
      },
      "file_extension": ".py",
      "mimetype": "text/x-python",
      "name": "python",
      "nbconvert_exporter": "python",
      "pygments_lexer": "ipython3",
      "version": "3.6.8"
    },
    "colab": {
      "provenance": [],
      "include_colab_link": true
    }
  },
  "cells": [
    {
      "cell_type": "markdown",
      "metadata": {
        "id": "view-in-github",
        "colab_type": "text"
      },
      "source": [
        "<a href=\"https://colab.research.google.com/github/Alaska36/Checkpoint0/blob/main/Python_error_types_checkpoint.ipynb\" target=\"_parent\"><img src=\"https://colab.research.google.com/assets/colab-badge.svg\" alt=\"Open In Colab\"/></a>"
      ]
    },
    {
      "cell_type": "markdown",
      "metadata": {
        "id": "BnA5PscALqYj"
      },
      "source": [
        "# Rectify the code in each cell and **explain the error in comments**"
      ]
    },
    {
      "cell_type": "markdown",
      "metadata": {
        "id": "aZcPJnU5CUJC"
      },
      "source": [
        "### index error"
      ]
    },
    {
      "cell_type": "code",
      "metadata": {
        "id": "vizZiOjyCUJF",
        "colab": {
          "base_uri": "https://localhost:8080/"
        },
        "outputId": "4a9a2094-9705-4879-af58-adacc0fc002a"
      },
      "source": [
        "mylist=[14, \"hello\", 967]\n",
        "mylist[0]"
      ],
      "execution_count": 3,
      "outputs": [
        {
          "output_type": "execute_result",
          "data": {
            "text/plain": [
              "14"
            ]
          },
          "metadata": {},
          "execution_count": 3
        }
      ]
    },
    {
      "cell_type": "code",
      "metadata": {
        "id": "PctyMmHLfvkb"
      },
      "source": [
        "import pandas as pd\n",
        "\n",
        "import numpy as np"
      ],
      "execution_count": 12,
      "outputs": []
    },
    {
      "cell_type": "markdown",
      "metadata": {
        "id": "QOOGIm3DCUJb"
      },
      "source": [
        "# syntax error"
      ]
    },
    {
      "cell_type": "code",
      "metadata": {
        "id": "M5R4cb7fCUJb",
        "colab": {
          "base_uri": "https://localhost:8080/"
        },
        "outputId": "95b29dbf-f11b-4f64-ce90-3db7db91c08c"
      },
      "source": [
        "print(\"python errors\")"
      ],
      "execution_count": 10,
      "outputs": [
        {
          "output_type": "stream",
          "name": "stdout",
          "text": [
            "python errors\n"
          ]
        }
      ]
    },
    {
      "cell_type": "markdown",
      "metadata": {
        "id": "Zllqh28_CUJh"
      },
      "source": [
        "# key error"
      ]
    },
    {
      "cell_type": "code",
      "metadata": {
        "id": "OuWy1e17CUJj",
        "colab": {
          "base_uri": "https://localhost:8080/",
          "height": 35
        },
        "outputId": "e2aacff5-3903-49f1-a549-fd65f131d021"
      },
      "source": [
        "mydictionnary={True:\"hello\",False:\"bye\", 3:\"python\"}\n",
        "mydictionnary[True]"
      ],
      "execution_count": 15,
      "outputs": [
        {
          "output_type": "execute_result",
          "data": {
            "text/plain": [
              "'hello'"
            ],
            "application/vnd.google.colaboratory.intrinsic+json": {
              "type": "string"
            }
          },
          "metadata": {},
          "execution_count": 15
        }
      ]
    },
    {
      "cell_type": "markdown",
      "metadata": {
        "id": "jc1wRC1aCUJw"
      },
      "source": [
        "# indentation error"
      ]
    },
    {
      "cell_type": "code",
      "metadata": {
        "id": "meWj9PP_CUJy"
      },
      "source": [
        "i=14\n",
        "while i<78:\n",
        "  print(i)\n",
        "i+=1\n"
      ],
      "execution_count": null,
      "outputs": []
    },
    {
      "cell_type": "markdown",
      "metadata": {
        "id": "-g_eEuEICUJ5"
      },
      "source": [
        "# StopIteration"
      ]
    },
    {
      "cell_type": "code",
      "metadata": {
        "id": "tJv5vQQGCUJ5"
      },
      "source": [
        "\n",
        "it=iter([1,2,3])\n",
        "next(it)\n",
        "next(it)\n",
        "next(it)\n",
        "next(it)\n",
        "return"
      ],
      "execution_count": null,
      "outputs": []
    },
    {
      "cell_type": "markdown",
      "metadata": {
        "id": "0Q0fJoS1CUKA"
      },
      "source": [
        "# TypeError\n"
      ]
    },
    {
      "cell_type": "code",
      "metadata": {
        "id": "rh6bhiQ6CUKA"
      },
      "source": [
        "15+15"
      ],
      "execution_count": null,
      "outputs": []
    },
    {
      "cell_type": "markdown",
      "metadata": {
        "id": "-xs5Em9QCUKF"
      },
      "source": [
        "# ValueError"
      ]
    },
    {
      "cell_type": "code",
      "metadata": {
        "id": "_rUS-J3dCUKH"
      },
      "source": [
        "int(input('python'))"
      ],
      "execution_count": null,
      "outputs": []
    },
    {
      "cell_type": "markdown",
      "metadata": {
        "id": "SIKftfJSCUKM"
      },
      "source": [
        "# NameError"
      ]
    },
    {
      "cell_type": "code",
      "metadata": {
        "id": "j3ZhAO67CUKM"
      },
      "source": [
        "name = python"
      ],
      "execution_count": null,
      "outputs": []
    },
    {
      "cell_type": "markdown",
      "metadata": {
        "id": "kNtxxeuaCUKT"
      },
      "source": [
        "# ZeroDivisionError"
      ]
    },
    {
      "cell_type": "code",
      "metadata": {
        "id": "hTaVRw1GCUKW"
      },
      "source": [
        "x=19/1"
      ],
      "execution_count": null,
      "outputs": []
    }
  ]
}