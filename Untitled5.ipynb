{
 "cells": [
  {
   "cell_type": "code",
   "execution_count": 3,
   "id": "1129dab3",
   "metadata": {},
   "outputs": [
    {
     "ename": "NameError",
     "evalue": "name 're' is not defined",
     "output_type": "error",
     "traceback": [
      "\u001b[1;31m---------------------------------------------------------------------------\u001b[0m",
      "\u001b[1;31mNameError\u001b[0m                                 Traceback (most recent call last)",
      "Cell \u001b[1;32mIn[3], line 56\u001b[0m\n\u001b[0;32m     54\u001b[0m \u001b[38;5;66;03m# Test the function with a Wikipedia URL\u001b[39;00m\n\u001b[0;32m     55\u001b[0m wikipedia_url \u001b[38;5;241m=\u001b[39m \u001b[38;5;124m'\u001b[39m\u001b[38;5;124mhttps://en.wikipedia.org/wiki/Python_(programming_language)\u001b[39m\u001b[38;5;124m'\u001b[39m\n\u001b[1;32m---> 56\u001b[0m result \u001b[38;5;241m=\u001b[39m \u001b[43manalyze_wikipedia_page\u001b[49m\u001b[43m(\u001b[49m\u001b[43mwikipedia_url\u001b[49m\u001b[43m)\u001b[49m\n\u001b[0;32m     57\u001b[0m \u001b[38;5;28mprint\u001b[39m(result)\n",
      "Cell \u001b[1;32mIn[3], line 43\u001b[0m, in \u001b[0;36manalyze_wikipedia_page\u001b[1;34m(url)\u001b[0m\n\u001b[0;32m     41\u001b[0m title \u001b[38;5;241m=\u001b[39m extract_article_title(html_content)\n\u001b[0;32m     42\u001b[0m paragraphs_with_headings \u001b[38;5;241m=\u001b[39m extract_article_paragraphs(html_content)\n\u001b[1;32m---> 43\u001b[0m wikipedia_links \u001b[38;5;241m=\u001b[39m \u001b[43mextract_wikipedia_links\u001b[49m\u001b[43m(\u001b[49m\u001b[43mhtml_content\u001b[49m\u001b[43m)\u001b[49m\n\u001b[0;32m     45\u001b[0m result \u001b[38;5;241m=\u001b[39m {\n\u001b[0;32m     46\u001b[0m     \u001b[38;5;124m'\u001b[39m\u001b[38;5;124mtitle\u001b[39m\u001b[38;5;124m'\u001b[39m: title,\n\u001b[0;32m     47\u001b[0m     \u001b[38;5;124m'\u001b[39m\u001b[38;5;124mparagraphs_with_headings\u001b[39m\u001b[38;5;124m'\u001b[39m: paragraphs_with_headings,\n\u001b[0;32m     48\u001b[0m     \u001b[38;5;124m'\u001b[39m\u001b[38;5;124mwikipedia_links\u001b[39m\u001b[38;5;124m'\u001b[39m: wikipedia_links\n\u001b[0;32m     49\u001b[0m }\n\u001b[0;32m     50\u001b[0m \u001b[38;5;28;01mreturn\u001b[39;00m result\n",
      "Cell \u001b[1;32mIn[3], line 34\u001b[0m, in \u001b[0;36mextract_wikipedia_links\u001b[1;34m(html_content)\u001b[0m\n\u001b[0;32m     32\u001b[0m \u001b[38;5;28;01mdef\u001b[39;00m \u001b[38;5;21mextract_wikipedia_links\u001b[39m(html_content):\n\u001b[0;32m     33\u001b[0m     soup \u001b[38;5;241m=\u001b[39m BeautifulSoup(html_content, \u001b[38;5;124m'\u001b[39m\u001b[38;5;124mhtml.parser\u001b[39m\u001b[38;5;124m'\u001b[39m)\n\u001b[1;32m---> 34\u001b[0m     links \u001b[38;5;241m=\u001b[39m soup\u001b[38;5;241m.\u001b[39mfind_all(\u001b[38;5;124m'\u001b[39m\u001b[38;5;124ma\u001b[39m\u001b[38;5;124m'\u001b[39m, {\u001b[38;5;124m'\u001b[39m\u001b[38;5;124mhref\u001b[39m\u001b[38;5;124m'\u001b[39m: \u001b[43mre\u001b[49m\u001b[38;5;241m.\u001b[39mcompile(\u001b[38;5;124mr\u001b[39m\u001b[38;5;124m'\u001b[39m\u001b[38;5;124m^/wiki/\u001b[39m\u001b[38;5;124m'\u001b[39m)})\n\u001b[0;32m     35\u001b[0m     wikipedia_links \u001b[38;5;241m=\u001b[39m [link[\u001b[38;5;124m'\u001b[39m\u001b[38;5;124mhref\u001b[39m\u001b[38;5;124m'\u001b[39m] \u001b[38;5;28;01mfor\u001b[39;00m link \u001b[38;5;129;01min\u001b[39;00m links]\n\u001b[0;32m     36\u001b[0m     \u001b[38;5;28;01mreturn\u001b[39;00m wikipedia_links\n",
      "\u001b[1;31mNameError\u001b[0m: name 're' is not defined"
     ]
    }
   ],
   "source": [
    "import requests\n",
    "from bs4 import BeautifulSoup\n",
    "\n",
    "def get_html_content(url):\n",
    "    response = requests.get(url)\n",
    "    if response.status_code == 200:\n",
    "        return response.content\n",
    "    else:\n",
    "        return None\n",
    "\n",
    "def extract_article_title(html_content):\n",
    "    soup = BeautifulSoup(html_content, 'html.parser')\n",
    "    title = soup.find('h1', {'id': 'firstHeading'}).text\n",
    "    return title\n",
    "\n",
    "def extract_article_paragraphs(html_content):\n",
    "    soup = BeautifulSoup(html_content, 'html.parser')\n",
    "    paragraphs = soup.find_all('p')\n",
    "    paragraphs_with_headings = {}\n",
    "    \n",
    "    current_heading = None\n",
    "    for paragraph in paragraphs:\n",
    "        if paragraph.find('span', {'class': 'mw-headline'}):\n",
    "            current_heading = paragraph.find('span', {'class': 'mw-headline'}).text\n",
    "        if current_heading:\n",
    "            if current_heading not in paragraphs_with_headings:\n",
    "                paragraphs_with_headings[current_heading] = []\n",
    "            paragraphs_with_headings[current_heading].append(paragraph.text)\n",
    "    \n",
    "    return paragraphs_with_headings\n",
    "\n",
    "def extract_wikipedia_links(html_content):\n",
    "    soup = BeautifulSoup(html_content, 'html.parser')\n",
    "    links = soup.find_all('a', {'href': re.compile(r'^/wiki/')})\n",
    "    wikipedia_links = [link['href'] for link in links]\n",
    "    return wikipedia_links\n",
    "\n",
    "def analyze_wikipedia_page(url):\n",
    "    html_content = get_html_content(url)\n",
    "    if html_content:\n",
    "        title = extract_article_title(html_content)\n",
    "        paragraphs_with_headings = extract_article_paragraphs(html_content)\n",
    "        wikipedia_links = extract_wikipedia_links(html_content)\n",
    "        \n",
    "        result = {\n",
    "            'title': title,\n",
    "            'paragraphs_with_headings': paragraphs_with_headings,\n",
    "            'wikipedia_links': wikipedia_links\n",
    "        }\n",
    "        return result\n",
    "    else:\n",
    "        return None\n",
    "\n",
    "# Test the function with a Wikipedia URL\n",
    "wikipedia_url = 'https://en.wikipedia.org/wiki/Python_(programming_language)'\n",
    "result = analyze_wikipedia_page(wikipedia_url)\n",
    "print(result)\n"
   ]
  },
  {
   "cell_type": "code",
   "execution_count": null,
   "id": "e32f1081",
   "metadata": {},
   "outputs": [],
   "source": []
  }
 ],
 "metadata": {
  "kernelspec": {
   "display_name": "Python 3 (ipykernel)",
   "language": "python",
   "name": "python3"
  },
  "language_info": {
   "codemirror_mode": {
    "name": "ipython",
    "version": 3
   },
   "file_extension": ".py",
   "mimetype": "text/x-python",
   "name": "python",
   "nbconvert_exporter": "python",
   "pygments_lexer": "ipython3",
   "version": "3.10.9"
  }
 },
 "nbformat": 4,
 "nbformat_minor": 5
}
