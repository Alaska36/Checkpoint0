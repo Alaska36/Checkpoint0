{
 "cells": [
  {
   "cell_type": "code",
   "execution_count": 19,
   "id": "3eb35926",
   "metadata": {},
   "outputs": [
    {
     "name": "stdout",
     "output_type": "stream",
     "text": [
      "Bonjour,\n",
      "Je m'appelle Bryan Stanley Koyaweda.\n",
      "Ceci est un teste pour lire un fichier a partir d'un code Python.\n",
      "Bye.\n"
     ]
    }
   ],
   "source": [
    "def lire_fichier_complet(Mon_fichier):\n",
    "    try:\n",
    "        with open(Mon_fichier, 'r') as fichier:\n",
    "            contenu = fichier.read()\n",
    "            return contenu\n",
    "    except FileNotFoundError:\n",
    "        return \"Fichier non trouvé.\"\n",
    "\n",
    "Mon_fichier = 'Mon_fichier.txt'\n",
    "contenu_complet = lire_fichier_complet(Mon_fichier)\n",
    "print(contenu_complet)\n"
   ]
  },
  {
   "cell_type": "code",
   "execution_count": 20,
   "id": "195584db",
   "metadata": {},
   "outputs": [
    {
     "name": "stdout",
     "output_type": "stream",
     "text": [
      "Bonjour,\n",
      "Je m'appelle Bryan Stanley Koyaweda.\n",
      "Ceci est un teste pour lire un fichier a partir d'un code Python.\n",
      "Bye.\n"
     ]
    }
   ],
   "source": [
    "def lire_n_premieres_lignes(Mon_fichier, n):\n",
    "    try:\n",
    "        with open(Mon_fichier, 'r') as fichier:\n",
    "            lignes = fichier.readlines()[:n]\n",
    "            return ''.join(lignes)\n",
    "    except FileNotFoundError:\n",
    "        return \"Fichier non trouvé.\"\n",
    "\n",
    "n = 5\n",
    "contenu_premieres_lignes = lire_n_premieres_lignes(Mon_fichier, n)\n",
    "print(contenu_premieres_lignes)\n"
   ]
  },
  {
   "cell_type": "code",
   "execution_count": 21,
   "id": "34fa124d",
   "metadata": {},
   "outputs": [
    {
     "name": "stdout",
     "output_type": "stream",
     "text": [
      "Bonjour,\n",
      "Je m'appelle Bryan Stanley Koyaweda.\n",
      "Ceci est un teste pour lire un fichier a partir d'un code Python.\n",
      "Bye.\n"
     ]
    }
   ],
   "source": [
    "def lire_n_dernieres_lignes(Mon_fichier, n):\n",
    "    try:\n",
    "        with open(Mon_fichier, 'r') as fichier:\n",
    "            lignes = fichier.readlines()\n",
    "            return ''.join(lignes[-n:])\n",
    "    except FileNotFoundError:\n",
    "        return \"Fichier non trouvé.\"\n",
    "\n",
    "n = 5\n",
    "contenu_dernieres_lignes = lire_n_dernieres_lignes(Mon_fichier, n)\n",
    "print(contenu_dernieres_lignes)\n"
   ]
  },
  {
   "cell_type": "code",
   "execution_count": 22,
   "id": "ee31d0e0",
   "metadata": {},
   "outputs": [
    {
     "name": "stdout",
     "output_type": "stream",
     "text": [
      "Nombre de mots dans le fichier: 20\n"
     ]
    }
   ],
   "source": [
    "def compter_mots(Mon_fichier):\n",
    "    try:\n",
    "        with open(Mon_fichier, 'r') as fichier:\n",
    "            contenu = fichier.read()\n",
    "            mots = contenu.split()\n",
    "            return len(mots)\n",
    "    except FileNotFoundError:\n",
    "        return \"Fichier non trouvé.\"\n",
    "\n",
    "nombre_mots = compter_mots(Mon_fichier)\n",
    "print(\"Nombre de mots dans le fichier:\", nombre_mots)\n"
   ]
  },
  {
   "cell_type": "code",
   "execution_count": 18,
   "id": "df2189e5",
   "metadata": {},
   "outputs": [
    {
     "name": "stdout",
     "output_type": "stream",
     "text": [
      "Essai\n",
      "Lirejusqu'Ã  lÃ \n"
     ]
    }
   ],
   "source": [
    "def lire_n_dernieres_lignes_bonus(Mon_fichier, n):\n",
    "    try:\n",
    "        with open(Mon_fichier, 'r') as fichier:\n",
    "            lignes = fichier.readlines()\n",
    "            if n >= len(lignes):\n",
    "                return ''.join(lignes)\n",
    "            else:\n",
    "                return ''.join(lignes[-n:])\n",
    "    except FileNotFoundError:\n",
    "        return \"Fichier non trouvé.\"\n",
    "\n",
    "n = 5\n",
    "contenu_dernieres_lignes_bonus = lire_n_dernieres_lignes_bonus(Mon_fichier, n)\n",
    "print(contenu_dernieres_lignes_bonus)\n"
   ]
  },
  {
   "cell_type": "code",
   "execution_count": null,
   "id": "4d31fe9a",
   "metadata": {},
   "outputs": [],
   "source": []
  }
 ],
 "metadata": {
  "kernelspec": {
   "display_name": "Python 3 (ipykernel)",
   "language": "python",
   "name": "python3"
  },
  "language_info": {
   "codemirror_mode": {
    "name": "ipython",
    "version": 3
   },
   "file_extension": ".py",
   "mimetype": "text/x-python",
   "name": "python",
   "nbconvert_exporter": "python",
   "pygments_lexer": "ipython3",
   "version": "3.10.9"
  }
 },
 "nbformat": 4,
 "nbformat_minor": 5
}
