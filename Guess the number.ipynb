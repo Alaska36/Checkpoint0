{
 "cells": [
  {
   "cell_type": "code",
   "execution_count": null,
   "id": "08b437eb",
   "metadata": {},
   "outputs": [
    {
     "name": "stdout",
     "output_type": "stream",
     "text": [
      "entrer les bornes inférieures:- 1\n",
      "Entrer les bornes supérieures:- 100\n",
      "\n",
      "\tVous avez seulemnt  7  chances de deviner le chiffre!\n",
      "\n",
      "Deviner un nombre:- 80\n",
      "Vous l'avez vite deviner!\n",
      "Deviner un nombre:- 70\n",
      "Vous l'avez vite deviner!\n",
      "Deviner un nombre:- 0\n",
      "Vous l'avez deviner lentement!\n",
      "Deviner un nombre:- 4\n",
      "Vous l'avez deviner lentement!\n"
     ]
    }
   ],
   "source": [
    "import random\n",
    "import math\n",
    "inférieures = int(input(\"entrer les bornes inférieures:- \"))\n",
    "\n",
    "supérieures = int(input(\"Entrer les bornes supérieures:- \"))\n",
    "\n",
    "x = random.randint(inférieures, supérieures)\n",
    "print(\"\\n\\tVous avez seulemnt \",\n",
    "\tround(math.log(supérieures - inférieures + 1, 2)),\n",
    "\t\" chances de deviner le chiffre!\\n\")\n",
    "\n",
    "count = 0\n",
    "\n",
    "while count < math.log(supérieures - inférieures + 1, 2):\n",
    "\tcount += 1\n",
    "\n",
    "\tdeviner = int(input(\"Deviner un nombre:- \"))\n",
    "\n",
    "\tif x == deviner:\n",
    "\t\tprint(\"Félicitation vous l'avez fait \",\n",
    "\t\t\tcount, \" Essayer\")\n",
    "        \n",
    "\t\tbreak\n",
    "\telif x > deviner:\n",
    "\t\tprint(\"Vous l'avez deviner lentement!\")\n",
    "\telif x < deviner:\n",
    "\t\tprint(\"Vous l'avez vite deviner!\")\n",
    "\n",
    "\n",
    "if count >= math.log(supérieures - inférieures + 1, 2):\n",
    "\tprint(\"\\nThe number is %d\" % x)\n",
    "\tprint(\"\\tBonne chance pour la premeière fois!\")\n",
    "\n"
   ]
  },
  {
   "cell_type": "code",
   "execution_count": null,
   "id": "e8beac27",
   "metadata": {},
   "outputs": [],
   "source": []
  },
  {
   "cell_type": "code",
   "execution_count": null,
   "id": "e4afd69a",
   "metadata": {},
   "outputs": [],
   "source": []
  }
 ],
 "metadata": {
  "kernelspec": {
   "display_name": "Python 3 (ipykernel)",
   "language": "python",
   "name": "python3"
  },
  "language_info": {
   "codemirror_mode": {
    "name": "ipython",
    "version": 3
   },
   "file_extension": ".py",
   "mimetype": "text/x-python",
   "name": "python",
   "nbconvert_exporter": "python",
   "pygments_lexer": "ipython3",
   "version": "3.10.9"
  }
 },
 "nbformat": 4,
 "nbformat_minor": 5
}
