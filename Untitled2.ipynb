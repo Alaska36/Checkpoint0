{
 "cells": [
  {
   "cell_type": "code",
   "execution_count": 3,
   "id": "9530a23a",
   "metadata": {},
   "outputs": [
    {
     "name": "stdout",
     "output_type": "stream",
     "text": [
      "Entrez le nombre d'étudiants : 2\n",
      "Entrez le nombre de matières : 3\n",
      "Entrez la note de l'étudiant 1 pour la matière 1 : 10\n",
      "Entrez la note de l'étudiant 1 pour la matière 2 : 20\n",
      "Entrez la note de l'étudiant 1 pour la matière 3 : 12\n",
      "Entrez la note de l'étudiant 2 pour la matière 1 : 14\n",
      "Entrez la note de l'étudiant 2 pour la matière 2 : 20\n",
      "Entrez la note de l'étudiant 2 pour la matière 3 : 3\n",
      "\n",
      "Résultats des étudiants :\n",
      "--------------------------------------------\n",
      "Nom de l'élève | Total des notes | Pourcentage | Note\n",
      "--------------------------------------------\n",
      "Étudiant 1      | 42.00           | 14.00%       | F\n",
      "Étudiant 2      | 37.00           | 12.33%       | F\n",
      "--------------------------------------------\n"
     ]
    }
   ],
   "source": [
    "import numpy as np\n",
    "\n",
    "nombre_etudiants = int(input(\"Entrez le nombre d'étudiants : \"))\n",
    "nombre_matieres = int(input(\"Entrez le nombre de matières : \"))\n",
    "\n",
    "notes = np.zeros((nombre_etudiants, nombre_matieres))\n",
    "\n",
    "for i in range(nombre_etudiants):\n",
    "    for j in range(nombre_matieres):\n",
    "        notes[i, j] = float(input(f\"Entrez la note de l'étudiant {i+1} pour la matière {j+1} : \"))\n",
    "\n",
    "total_notes = np.sum(notes, axis=1)\n",
    "\n",
    "pourcentages = (total_notes / (nombre_matieres * 100)) * 100\n",
    "grades = []\n",
    "for pourcentage in pourcentages:\n",
    "    if pourcentage >= 90:\n",
    "        grades.append(\"A+\")\n",
    "    elif pourcentage >= 80:\n",
    "        grades.append(\"A\")\n",
    "    elif pourcentage >= 70:\n",
    "        grades.append(\"B+\")\n",
    "    elif pourcentage >= 60:\n",
    "        grades.append(\"B\")\n",
    "    elif pourcentage >= 50:\n",
    "        grades.append(\"C\")\n",
    "    else:\n",
    "        grades.append(\"F\")\n",
    "\n",
    "print(\"\\nRésultats des étudiants :\")\n",
    "print(\"--------------------------------------------\")\n",
    "print(\"Nom de l'élève | Total des notes | Pourcentage | Note\")\n",
    "print(\"--------------------------------------------\")\n",
    "for i in range(nombre_etudiants):\n",
    "    print(f\"Étudiant {i+1}      | {total_notes[i]:.2f}           | {pourcentages[i]:.2f}%       | {grades[i]}\")\n",
    "print(\"--------------------------------------------\")\n"
   ]
  },
  {
   "cell_type": "markdown",
   "id": "85692439",
   "metadata": {},
   "source": []
  },
  {
   "cell_type": "code",
   "execution_count": null,
   "id": "f66a7f11",
   "metadata": {},
   "outputs": [],
   "source": []
  }
 ],
 "metadata": {
  "kernelspec": {
   "display_name": "Python 3 (ipykernel)",
   "language": "python",
   "name": "python3"
  },
  "language_info": {
   "codemirror_mode": {
    "name": "ipython",
    "version": 3
   },
   "file_extension": ".py",
   "mimetype": "text/x-python",
   "name": "python",
   "nbconvert_exporter": "python",
   "pygments_lexer": "ipython3",
   "version": "3.10.9"
  }
 },
 "nbformat": 4,
 "nbformat_minor": 5
}
